{
 "cells": [
  {
   "cell_type": "markdown",
   "id": "anticipated-inventory",
   "metadata": {},
   "source": [
    "CNN"
   ]
  },
  {
   "cell_type": "code",
   "execution_count": 1,
   "id": "recognized-hudson",
   "metadata": {},
   "outputs": [],
   "source": [
    "import keras\n",
    "import numpy as np\n",
    "import matplotlib.pyplot as plt"
   ]
  },
  {
   "cell_type": "code",
   "execution_count": 2,
   "id": "joint-parking",
   "metadata": {},
   "outputs": [
    {
     "data": {
      "text/plain": [
       "tensorflow.python.keras.preprocessing.image.ImageDataGenerator"
      ]
     },
     "execution_count": 2,
     "metadata": {},
     "output_type": "execute_result"
    }
   ],
   "source": [
    "from keras.preprocessing.image import ImageDataGenerator\n",
    "datagen=ImageDataGenerator(rotation_range=40,width_shift_range=0.2,height_shift_range=0.2,horizontal_flip=True,zoom_range=0.2,rescale=1./255.)\n",
    "type(datagen)"
   ]
  },
  {
   "cell_type": "code",
   "execution_count": 19,
   "id": "opposite-suite",
   "metadata": {},
   "outputs": [],
   "source": [
    "from keras.models import Sequential\n",
    "from keras.layers import Conv2D,MaxPool2D,Flatten,Dense,Activation\n",
    "from keras.activations import relu,softmax\n",
    "from keras.losses import categorical_crossentropy\n",
    "from keras.optimizers import SGD\n",
    "from keras.callbacks import ModelCheckpoint, LearningRateScheduler #it will be implemented after every epochs\n",
    "#the first one will give us value of weights and all \n",
    "#to increase and decrease learning rate based on model accuracy\n",
    "from keras.callbacks import TensorBoard"
   ]
  },
  {
   "cell_type": "code",
   "execution_count": 5,
   "id": "frequent-meditation",
   "metadata": {},
   "outputs": [],
   "source": [
    "model=Sequential()\n",
    "\n",
    "#Single Chunk of CONVOLUTION layer\n",
    "model.add(Conv2D(32,(3,3),input_shape=(150,150,3),activation='relu'))\n",
    "#or we can add activation as below\n",
    "# model.add(Activation='relu')\n",
    "\n",
    "model.add(MaxPool2D(pool_size=(2,2),strides=(2, 2), padding='valid'))\n",
    "\n",
    "#Second chunk\n",
    "model.add(Conv2D(45,(3,3),activation='relu'))\n",
    "model.add(MaxPool2D(pool_size=(2,2),strides=(2, 2), padding='valid'))\n",
    "\n",
    "#third chunk\n",
    "model.add(Conv2D(45,(3,3),activation='relu'))\n",
    "model.add(MaxPool2D(pool_size=(2,2),strides=(2, 2), padding='valid'))\n",
    "\n",
    "model.add(Flatten())\n",
    "model.add(Dense(1024,activation='relu'))\n",
    "model.add(Dense(256,activation='relu'))\n",
    "model.add(Dense(2,activation='softmax'))\n",
    "\n"
   ]
  },
  {
   "cell_type": "code",
   "execution_count": 16,
   "id": "healthy-front",
   "metadata": {},
   "outputs": [],
   "source": [
    "model.compile(loss=keras.losses.binary_crossentropy, optimizer=SGD(), metrics=['accuracy'])"
   ]
  },
  {
   "cell_type": "code",
   "execution_count": 14,
   "id": "formal-darkness",
   "metadata": {},
   "outputs": [
    {
     "name": "stdout",
     "output_type": "stream",
     "text": [
      "Found 399 images belonging to 2 classes.\n"
     ]
    }
   ],
   "source": [
    "train_gen = datagen.flow_from_directory('data/',target_size=(150,150),#resize the image not crop\n",
    "                                        batch_size=10)#how many images you want to read per batch\n",
    "#here we have total 400 we have 40 batches"
   ]
  },
  {
   "cell_type": "code",
   "execution_count": 24,
   "id": "union-exclusive",
   "metadata": {},
   "outputs": [],
   "source": [
    "#tb = TensorBoard(log_dir='./logs')#it will make log directory\n",
    "tb= TensorBoard(log_dir='.') #create folder here only"
   ]
  },
  {
   "cell_type": "code",
   "execution_count": 25,
   "id": "abroad-hypothetical",
   "metadata": {},
   "outputs": [
    {
     "name": "stdout",
     "output_type": "stream",
     "text": [
      "Epoch 1/10\n",
      "40/40 [==============================] - 13s 311ms/step - loss: 0.6180 - accuracy: 0.6642\n",
      "Epoch 2/10\n",
      "40/40 [==============================] - 11s 285ms/step - loss: 0.6130 - accuracy: 0.6667\n",
      "Epoch 3/10\n",
      "40/40 [==============================] - 12s 294ms/step - loss: 0.6100 - accuracy: 0.6617\n",
      "Epoch 4/10\n",
      "40/40 [==============================] - 12s 286ms/step - loss: 0.6074 - accuracy: 0.6892\n",
      "Epoch 5/10\n",
      "40/40 [==============================] - 12s 290ms/step - loss: 0.5974 - accuracy: 0.6717\n",
      "Epoch 6/10\n",
      "40/40 [==============================] - 12s 289ms/step - loss: 0.6089 - accuracy: 0.6817\n",
      "Epoch 7/10\n",
      "40/40 [==============================] - 12s 288ms/step - loss: 0.5961 - accuracy: 0.6742\n",
      "Epoch 8/10\n",
      "40/40 [==============================] - 12s 293ms/step - loss: 0.6028 - accuracy: 0.6667\n",
      "Epoch 9/10\n",
      "40/40 [==============================] - 12s 289ms/step - loss: 0.5882 - accuracy: 0.6942\n",
      "Epoch 10/10\n",
      "40/40 [==============================] - 12s 289ms/step - loss: 0.6015 - accuracy: 0.6942\n"
     ]
    }
   ],
   "source": [
    "model_history=model.fit_generator(train_gen,epochs=10 , callbacks=[tb])\n",
    "#callback will be executed after evry epochs\n",
    "#callbacks=[TensorBoardColabCallback(tbcolab),loss_history,lrate_]\n",
    "#we have 400 images and 20 per batch so 400/10 we get 40 steps per epoch"
   ]
  },
  {
   "cell_type": "markdown",
   "id": "surface-rugby",
   "metadata": {},
   "source": []
  },
  {
   "cell_type": "code",
   "execution_count": 23,
   "id": "detected-museum",
   "metadata": {},
   "outputs": [
    {
     "name": "stdout",
     "output_type": "stream",
     "text": [
      "Model: \"sequential_1\"\n",
      "_________________________________________________________________\n",
      "Layer (type)                 Output Shape              Param #   \n",
      "=================================================================\n",
      "conv2d_3 (Conv2D)            (None, 148, 148, 32)      896       \n",
      "_________________________________________________________________\n",
      "max_pooling2d_3 (MaxPooling2 (None, 74, 74, 32)        0         \n",
      "_________________________________________________________________\n",
      "conv2d_4 (Conv2D)            (None, 72, 72, 45)        13005     \n",
      "_________________________________________________________________\n",
      "max_pooling2d_4 (MaxPooling2 (None, 36, 36, 45)        0         \n",
      "_________________________________________________________________\n",
      "conv2d_5 (Conv2D)            (None, 34, 34, 45)        18270     \n",
      "_________________________________________________________________\n",
      "max_pooling2d_5 (MaxPooling2 (None, 17, 17, 45)        0         \n",
      "_________________________________________________________________\n",
      "flatten (Flatten)            (None, 13005)             0         \n",
      "_________________________________________________________________\n",
      "dense (Dense)                (None, 1024)              13318144  \n",
      "_________________________________________________________________\n",
      "dense_1 (Dense)              (None, 256)               262400    \n",
      "_________________________________________________________________\n",
      "dense_2 (Dense)              (None, 2)                 514       \n",
      "=================================================================\n",
      "Total params: 13,613,229\n",
      "Trainable params: 13,613,229\n",
      "Non-trainable params: 0\n",
      "_________________________________________________________________\n"
     ]
    }
   ],
   "source": [
    "model.summary()"
   ]
  },
  {
   "cell_type": "code",
   "execution_count": null,
   "id": "fabulous-formula",
   "metadata": {},
   "outputs": [],
   "source": [
    "#learning rate schedular\n",
    "def step_decay(epoch):\n",
    "    initial_rate=0.1\n",
    "    drop=0.5\n",
    "    epoch_drop=3.0\n",
    "    lrate=initial_rate * math.pow(drop,math.floor((1+epoch)/epoch_drop))\n",
    "    return lrate\n",
    "lrate_=LearningRateScheduler(step_decay)"
   ]
  }
 ],
 "metadata": {
  "kernelspec": {
   "display_name": "Python 3",
   "language": "python",
   "name": "python3"
  },
  "language_info": {
   "codemirror_mode": {
    "name": "ipython",
    "version": 3
   },
   "file_extension": ".py",
   "mimetype": "text/x-python",
   "name": "python",
   "nbconvert_exporter": "python",
   "pygments_lexer": "ipython3",
   "version": "3.8.7"
  }
 },
 "nbformat": 4,
 "nbformat_minor": 5
}
